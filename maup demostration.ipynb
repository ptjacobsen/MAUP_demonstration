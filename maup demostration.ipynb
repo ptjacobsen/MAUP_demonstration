{
 "cells": [
  {
   "cell_type": "markdown",
   "metadata": {
    "collapsed": true
   },
   "source": [
    "Here's a demonstration of the Modifiable Areal Unit Problem using randomly generated data.\n",
    "\n",
    "###Imports\n",
    "\n",
    "* Geopandas - pandas, but extended to use Shapely geometric objects\n",
    "* Numpy - random, correlation coefficient\n",
    "* Shapely - Geometric objects"
   ]
  },
  {
   "cell_type": "code",
   "execution_count": null,
   "metadata": {},
   "outputs": [],
   "source": [
    "import geopandas as gpd\n",
    "from numpy import random,corrcoef,arange\n",
    "from shapely.geometry import Point,Polygon,LineString,MultiLineString"
   ]
  },
  {
   "cell_type": "markdown",
   "metadata": {},
   "source": [
    "###Generate Data\n",
    "\n"
   ]
  },
  {
   "cell_type": "code",
   "execution_count": null,
   "metadata": {},
   "outputs": [],
   "source": [
    "def build_correlated_gdf(stddev = 40,size = 1000, point_ct = 1000):\n",
    "\n",
    "    x = random.randint(1, 1000)\n",
    "    y = random.randint(1, 1000)\n",
    "    point0 = Point(x, y)\n",
    "    r1 = random.randint(1,1000)\n",
    "    gdf = gpd.GeoDataFrame({'geometry':[point0],\n",
    "                            'value':[r1],\n",
    "                            'value2':[r1]}\n",
    "                           ,index=[0])\n",
    "\n",
    "    for i in range(point_ct):\n",
    "        \n",
    "        # Create a new point in the space, randomly placed\n",
    "        x = random.randint(1, 1000)\n",
    "        y = random.randint(1, 1000)\n",
    "        newPoint = Point(x,y)\n",
    "\n",
    "        # take the ten nearest points to this new point. take their average\n",
    "        temp_gdf = gdf.copy()\n",
    "        temp_gdf['dist'] = temp_gdf['geometry'].apply(lambda p: p.distance(newPoint))\n",
    "        temp_gdf.sort_values('dist',inplace=True)\n",
    "        vm = temp_gdf.head(10)['value'].mean()\n",
    "\n",
    "        # use this value as the center of a normal distribution, and pick a value randomly on that distribution\n",
    "        # second value takes the normal dist of diff\n",
    "        valdiff = random.normal(0, stddev)\n",
    "        valdiff2 = random.normal(valdiff,stddev)\n",
    "\n",
    "        # if the value goes outside our bounds, just bounce it back inside\n",
    "        if ((vm + valdiff) > size) | ((vm + valdiff) < 1):\n",
    "            valdiff = -valdiff\n",
    "        if ((vm + valdiff2) > size) | ((vm + valdiff2) < 1):\n",
    "            valdiff2 = -valdiff2\n",
    "\n",
    "        # add the point and the values to the end of the the ongoing geodataframe\n",
    "        gdf = gdf.append(gpd.GeoDataFrame({'geometry': [newPoint],\n",
    "                                'value': [vm+valdiff],\n",
    "                                'value2': [vm+valdiff2]}\n",
    "                                , index=[len(gdf)]))\n",
    "\n",
    "    return gdf\n",
    "\n",
    "def build_random_gdf(size = 1000, point_ct = 1000):\n",
    "\n",
    "    vals = [random.randint(1,1000) for i in range(point_ct)]\n",
    "    vals2 = [random.randint(1,1000) for i in range(point_ct)]\n",
    "    points = [Point(random.randint(1,size),random.randint(1,size)) for i in range(point_ct)]\n",
    "\n",
    "    return gpd.GeoDataFrame({'value':vals,'value2':vals2,'geometry':points})"
   ]
  },
  {
   "cell_type": "markdown",
   "metadata": {},
   "source": [
    ""
   ]
  },
  {
   "cell_type": "code",
   "execution_count": null,
   "metadata": {},
   "outputs": [],
   "source": [
    "\n",
    "def unit_correlation(gdf,cell_size = 100.0):\n",
    "    v1 = []\n",
    "    v2 = []\n",
    "    for i in arange(0,1000,cell_size):\n",
    "        for j in arange(0,1000,cell_size):\n",
    "            this_section = gdf.cx[i:(i+cell_size),j:(j+cell_size)]\n",
    "            if len(this_section) == 0:\n",
    "                continue\n",
    "            else:\n",
    "                v1.append(this_section['value'].mean())\n",
    "                v2.append(this_section['value2'].mean())\n",
    "\n",
    "    return corrcoef(v1,v2)[1,0]"
   ]
  }
 ],
 "metadata": {
  "kernelspec": {
   "display_name": "Python 2",
   "language": "python",
   "name": "python2"
  },
  "language_info": {
   "codemirror_mode": {
    "name": "ipython",
    "version": 2.0
   },
   "file_extension": ".py",
   "mimetype": "text/x-python",
   "name": "python",
   "nbconvert_exporter": "python",
   "pygments_lexer": "ipython2",
   "version": "2.7.6"
  }
 },
 "nbformat": 4,
 "nbformat_minor": 0
}